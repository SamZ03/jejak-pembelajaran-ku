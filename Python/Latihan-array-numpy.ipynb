{
 "metadata": {
  "language_info": {
   "codemirror_mode": {
    "name": "ipython",
    "version": 3
   },
   "file_extension": ".py",
   "mimetype": "text/x-python",
   "name": "python",
   "nbconvert_exporter": "python",
   "pygments_lexer": "ipython3",
   "version": 3
  },
  "orig_nbformat": 2
 },
 "nbformat": 4,
 "nbformat_minor": 2,
 "cells": [
  {
   "cell_type": "code",
   "execution_count": null,
   "metadata": {},
   "outputs": [],
   "source": [
    "# Nama : Sam Zuhal Setiawan\n",
    "# NIM : 2005176043\n",
    "\n",
    "# Tugas 1\n",
    "# Menjelaskan mengambil data array dengan start dan end parameter negatif\n",
    "\n",
    "import numpy as np #import library numpy\n",
    "\n",
    "a = np.array([1,2,3,4,5,6,7,8,9,10]) #membuat array 1D\n",
    "\n",
    "# Pada umumnya untuk memngambil data pada array bisa menggunakan format:\n",
    "# namaArray[start:end]\n",
    "# data yg akan diambil adalah data dengan indeks start sampai indeks end\n",
    "\n"
   ]
  }
 ]
}